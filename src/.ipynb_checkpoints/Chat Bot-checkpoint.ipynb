{
 "cells": [
  {
   "cell_type": "code",
   "execution_count": 40,
   "id": "49dfbd12",
   "metadata": {
    "ExecuteTime": {
     "end_time": "2022-09-26T18:14:24.406452Z",
     "start_time": "2022-09-26T18:14:18.156055Z"
    }
   },
   "outputs": [],
   "source": [
    "import pandas as pd\n",
    "import numpy as np\n",
    "import re\n",
    "import time\n",
    "from nltk import word_tokenize\n",
    "from nltk import FreqDist\n",
    "from string import punctuation"
   ]
  },
  {
   "cell_type": "code",
   "execution_count": 41,
   "id": "c7b4a46f",
   "metadata": {
    "ExecuteTime": {
     "end_time": "2022-09-26T18:59:53.358378Z",
     "start_time": "2022-09-26T18:59:53.342373Z"
    }
   },
   "outputs": [],
   "source": [
    "movie_lines_url = 'data\\chatbot_dataset\\movie_lines.txt'\n",
    "movie_conversations_url = 'data\\chatbot_dataset\\movie_conversations.txt'"
   ]
  },
  {
   "cell_type": "code",
   "execution_count": 42,
   "id": "c1382766",
   "metadata": {},
   "outputs": [],
   "source": [
    "class ImportData:\n",
    "    def __init__(self, url):\n",
    "        self.url = url\n",
    "\n",
    "    def read_chat_files(self):\n",
    "        with open(self.url) as file:\n",
    "            splitted_file = file.read().split('\\n')\n",
    "            list_of_columns = [line.split(' +++$+++ ') for line in splitted_file]\n",
    "            list_of_columns = list_of_columns[:-1]\n",
    "        return list_of_columns\n",
    "\n",
    "class UnionDataframes:\n",
    "    def __init__(self, dataframe):\n",
    "        self.dataframe = dataframe\n",
    "\n",
    "    def organizing_answers_and_questions(dataframe):\n",
    "        question = []\n",
    "        answer = []\n",
    "        for scene in dataframe[3].values:\n",
    "            list_of_sentences = eval(scene)\n",
    "            for index in range(len(list_of_sentences)-1):\n",
    "                question.append(list_of_sentences[index])\n",
    "                answer.append(list_of_sentences[index+1])\n",
    "        \n",
    "        return zip(question,answer)\n",
    "\n",
    "\n",
    "class CleanDataframes:\n",
    "    def __init__(self, dataframe):\n",
    "        self.dataframe = dataframe\n",
    "\n",
    "    def clean_ponctuations(self):\n",
    "        "
   ]
  },
  {
   "cell_type": "code",
   "execution_count": 54,
   "id": "e668c435",
   "metadata": {},
   "outputs": [],
   "source": [
    "df_movie_lines = pd.DataFrame(ImportData(movie_lines_url).read_chat_files(), columns=['cod','0','0','0','sentence'])[['cod','sentence']]\n",
    "\n",
    "df_movie_conversations = pd.DataFrame(ImportData(movie_conversations_url).read_chat_files())\n",
    "\n",
    "df_question_and_answers_cods = pd.DataFrame(UnionDataframes.organizing_answers_and_questions(df_movie_conversations), columns=['question','answer'])\n",
    "\n",
    "df_sentences = df_question_and_answers_cods.\\\n",
    "    merge(df_movie_lines, left_on='question', right_on='cod').\\\n",
    "        merge(df_movie_lines, left_on='answer', right_on='cod', suffixes=('_question','_answer'))\\\n",
    "            [['sentence_question','sentence_answer']]\n"
   ]
  },
  {
   "cell_type": "code",
   "execution_count": 55,
   "id": "32aebf12",
   "metadata": {},
   "outputs": [
    {
     "data": {
      "text/html": [
       "<div>\n",
       "<style scoped>\n",
       "    .dataframe tbody tr th:only-of-type {\n",
       "        vertical-align: middle;\n",
       "    }\n",
       "\n",
       "    .dataframe tbody tr th {\n",
       "        vertical-align: top;\n",
       "    }\n",
       "\n",
       "    .dataframe thead th {\n",
       "        text-align: right;\n",
       "    }\n",
       "</style>\n",
       "<table border=\"1\" class=\"dataframe\">\n",
       "  <thead>\n",
       "    <tr style=\"text-align: right;\">\n",
       "      <th></th>\n",
       "      <th>sentence_question</th>\n",
       "      <th>sentence_answer</th>\n",
       "    </tr>\n",
       "  </thead>\n",
       "  <tbody>\n",
       "    <tr>\n",
       "      <th>0</th>\n",
       "      <td>Can we make this quick?  Roxanne Korrine and A...</td>\n",
       "      <td>Well, I thought we'd start with pronunciation,...</td>\n",
       "    </tr>\n",
       "    <tr>\n",
       "      <th>1</th>\n",
       "      <td>Well, I thought we'd start with pronunciation,...</td>\n",
       "      <td>Not the hacking and gagging and spitting part....</td>\n",
       "    </tr>\n",
       "    <tr>\n",
       "      <th>2</th>\n",
       "      <td>Not the hacking and gagging and spitting part....</td>\n",
       "      <td>Okay... then how 'bout we try out some French ...</td>\n",
       "    </tr>\n",
       "    <tr>\n",
       "      <th>3</th>\n",
       "      <td>You're asking me out.  That's so cute. What's ...</td>\n",
       "      <td>Forget it.</td>\n",
       "    </tr>\n",
       "    <tr>\n",
       "      <th>4</th>\n",
       "      <td>No, no, it's my fault -- we didn't have a prop...</td>\n",
       "      <td>Cameron.</td>\n",
       "    </tr>\n",
       "    <tr>\n",
       "      <th>...</th>\n",
       "      <td>...</td>\n",
       "      <td>...</td>\n",
       "    </tr>\n",
       "    <tr>\n",
       "      <th>221611</th>\n",
       "      <td>Your orders, Mr Vereker?</td>\n",
       "      <td>I'm to take the Sikali with the main column to...</td>\n",
       "    </tr>\n",
       "    <tr>\n",
       "      <th>221612</th>\n",
       "      <td>I'm to take the Sikali with the main column to...</td>\n",
       "      <td>Lord Chelmsford seems to want me to stay back ...</td>\n",
       "    </tr>\n",
       "    <tr>\n",
       "      <th>221613</th>\n",
       "      <td>Lord Chelmsford seems to want me to stay back ...</td>\n",
       "      <td>I think Chelmsford wants a good man on the bor...</td>\n",
       "    </tr>\n",
       "    <tr>\n",
       "      <th>221614</th>\n",
       "      <td>Well I assure you, Sir, I have no desire to cr...</td>\n",
       "      <td>And I assure you, you do not In fact I'd be ob...</td>\n",
       "    </tr>\n",
       "    <tr>\n",
       "      <th>221615</th>\n",
       "      <td>And I assure you, you do not In fact I'd be ob...</td>\n",
       "      <td>So far only their scouts. But we have had repo...</td>\n",
       "    </tr>\n",
       "  </tbody>\n",
       "</table>\n",
       "<p>221616 rows × 2 columns</p>\n",
       "</div>"
      ],
      "text/plain": [
       "                                        sentence_question  \\\n",
       "0       Can we make this quick?  Roxanne Korrine and A...   \n",
       "1       Well, I thought we'd start with pronunciation,...   \n",
       "2       Not the hacking and gagging and spitting part....   \n",
       "3       You're asking me out.  That's so cute. What's ...   \n",
       "4       No, no, it's my fault -- we didn't have a prop...   \n",
       "...                                                   ...   \n",
       "221611                           Your orders, Mr Vereker?   \n",
       "221612  I'm to take the Sikali with the main column to...   \n",
       "221613  Lord Chelmsford seems to want me to stay back ...   \n",
       "221614  Well I assure you, Sir, I have no desire to cr...   \n",
       "221615  And I assure you, you do not In fact I'd be ob...   \n",
       "\n",
       "                                          sentence_answer  \n",
       "0       Well, I thought we'd start with pronunciation,...  \n",
       "1       Not the hacking and gagging and spitting part....  \n",
       "2       Okay... then how 'bout we try out some French ...  \n",
       "3                                              Forget it.  \n",
       "4                                                Cameron.  \n",
       "...                                                   ...  \n",
       "221611  I'm to take the Sikali with the main column to...  \n",
       "221612  Lord Chelmsford seems to want me to stay back ...  \n",
       "221613  I think Chelmsford wants a good man on the bor...  \n",
       "221614  And I assure you, you do not In fact I'd be ob...  \n",
       "221615  So far only their scouts. But we have had repo...  \n",
       "\n",
       "[221616 rows x 2 columns]"
      ]
     },
     "execution_count": 55,
     "metadata": {},
     "output_type": "execute_result"
    }
   ],
   "source": [
    "df_sentences"
   ]
  },
  {
   "cell_type": "code",
   "execution_count": 113,
   "id": "fd4ec64d",
   "metadata": {},
   "outputs": [],
   "source": [
    "def preprocessing(sentence, punc=''):\n",
    "    \n",
    "    for pt in punc:\n",
    "        sentence = sentence.replace(pt,'')\n",
    "    \n",
    "    list_sentence = word_tokenize(sentence)\n",
    "    \n",
    "    return list_sentence"
   ]
  },
  {
   "cell_type": "code",
   "execution_count": 127,
   "id": "0f7d91c4",
   "metadata": {},
   "outputs": [],
   "source": [
    "df_movie_lines['list_sentence'] = df_movie_lines['sentence'].apply(preprocessing, punc=punctuation)"
   ]
  },
  {
   "cell_type": "code",
   "execution_count": 129,
   "id": "a3d9da54",
   "metadata": {},
   "outputs": [],
   "source": [
    "list_words = []\n",
    "for i in df_movie_lines['list_sentence'].values:\n",
    "    list_words.extend(i)"
   ]
  },
  {
   "cell_type": "code",
   "execution_count": 130,
   "id": "d4407fbd",
   "metadata": {},
   "outputs": [
    {
     "data": {
      "text/plain": [
       "FreqDist({'I': 102347, 'you': 99523, 'the': 88012, 'to': 79227, 'a': 66182, 'it': 40623, 'of': 37886, 'and': 35229, 'in': 32059, 'that': 31316, ...})"
      ]
     },
     "execution_count": 130,
     "metadata": {},
     "output_type": "execute_result"
    }
   ],
   "source": [
    "FreqDist(list_words)"
   ]
  },
  {
   "cell_type": "code",
   "execution_count": 4,
   "id": "06924f29",
   "metadata": {
    "ExecuteTime": {
     "end_time": "2023-01-07T00:09:36.970799Z",
     "start_time": "2023-01-07T00:09:36.890807Z"
    }
   },
   "outputs": [],
   "source": [
    "import re\n",
    "import pytesseract\n",
    "from PIL import Image\n",
    "\n",
    "def extract_number(image):\n",
    "    # Use pytesseract to extract text from image\n",
    "    text = pytesseract.image_to_string(image)\n",
    "\n",
    "    # Use a regular expression to search for a single number\n",
    "    \n",
    "    return text\n",
    "\n",
    "# Example usage\n",
    "image = Image.open('C:/Users/felip/2023/five.png')\n",
    "number = extract_number(image)"
   ]
  },
  {
   "cell_type": "code",
   "execution_count": 5,
   "id": "c34ae6fa",
   "metadata": {
    "ExecuteTime": {
     "end_time": "2023-01-07T00:09:43.408927Z",
     "start_time": "2023-01-07T00:09:43.402927Z"
    }
   },
   "outputs": [
    {
     "data": {
      "text/plain": [
       "''"
      ]
     },
     "execution_count": 5,
     "metadata": {},
     "output_type": "execute_result"
    }
   ],
   "source": [
    "number"
   ]
  },
  {
   "cell_type": "code",
   "execution_count": null,
   "id": "bd6dd8bd",
   "metadata": {},
   "outputs": [],
   "source": [
    "number = re.search(r'\\d+', text).group()"
   ]
  }
 ],
 "metadata": {
  "kernelspec": {
   "display_name": "Python 3 (ipykernel)",
   "language": "python",
   "name": "python3"
  },
  "language_info": {
   "codemirror_mode": {
    "name": "ipython",
    "version": 3
   },
   "file_extension": ".py",
   "mimetype": "text/x-python",
   "name": "python",
   "nbconvert_exporter": "python",
   "pygments_lexer": "ipython3",
   "version": "3.9.7"
  },
  "toc": {
   "base_numbering": 1,
   "nav_menu": {},
   "number_sections": true,
   "sideBar": true,
   "skip_h1_title": false,
   "title_cell": "Table of Contents",
   "title_sidebar": "Contents",
   "toc_cell": false,
   "toc_position": {},
   "toc_section_display": true,
   "toc_window_display": false
  },
  "vscode": {
   "interpreter": {
    "hash": "de5481e07a0c2e6e548aab9815e7083cac14c193e6e92af6e63a8ff30eef6e38"
   }
  }
 },
 "nbformat": 4,
 "nbformat_minor": 5
}
