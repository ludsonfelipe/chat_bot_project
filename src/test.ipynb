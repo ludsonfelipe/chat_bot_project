{
 "cells": [
  {
   "cell_type": "code",
   "execution_count": 1,
   "metadata": {},
   "outputs": [],
   "source": [
    "from data_loader import ImportData\n"
   ]
  },
  {
   "cell_type": "code",
   "execution_count": 3,
   "metadata": {},
   "outputs": [
    {
     "name": "stdout",
     "output_type": "stream",
     "text": [
      "An error occurred: [Errno 2] No such file or directory: 'C:\\\\Users\\\\felip\\\\2023\\\\NLP Chat Bot\\\\data\\\\chatbot_dataset\\\\movie_conversations.txt'\n",
      "An error occurred: 'ImportData' object has no attribute 'file'\n",
      "An error occurred: [Errno 2] No such file or directory: 'C:\\\\Users\\\\felip\\\\2023\\\\NLP Chat Bot\\\\data\\\\chatbot_dataset\\\\movie_lines.txt'\n",
      "An error occurred: 'ImportData' object has no attribute 'file'\n"
     ]
    }
   ],
   "source": [
    "# Path of the txts data\n",
    "movie_lines_url = r'C:\\Users\\felip\\2023\\NLP Chat Bot\\data\\chatbot_dataset\\movie_lines.txt'\n",
    "movie_conversations_url = r'C:\\Users\\felip\\2023\\NLP Chat Bot\\data\\chatbot_dataset\\movie_conversations.txt'\n",
    "\n",
    "# Read the data from the URL\n",
    "sep = ' +++$+++ '\n",
    "conversations = ImportData(movie_conversations_url).read_lines_txt(sep = sep)\n",
    "lines = ImportData(movie_lines_url).read_lines_txt(sep = sep)"
   ]
  },
  {
   "cell_type": "code",
   "execution_count": 6,
   "metadata": {},
   "outputs": [
    {
     "ename": "FileNotFoundError",
     "evalue": "[Errno 2] No such file or directory: 'NLP Chat Bot/src/data/chatbot_dataset/movie_conversations.txt'",
     "output_type": "error",
     "traceback": [
      "\u001b[1;31m---------------------------------------------------------------------------\u001b[0m",
      "\u001b[1;31mFileNotFoundError\u001b[0m                         Traceback (most recent call last)",
      "Cell \u001b[1;32mIn[6], line 1\u001b[0m\n\u001b[1;32m----> 1\u001b[0m \u001b[39mopen\u001b[39;49m(\u001b[39m'\u001b[39;49m\u001b[39mNLP Chat Bot/src/data/chatbot_dataset/movie_conversations.txt\u001b[39;49m\u001b[39m'\u001b[39;49m)\n",
      "File \u001b[1;32mc:\\Users\\felip\\2023\\env\\chatbotenv\\lib\\site-packages\\IPython\\core\\interactiveshell.py:282\u001b[0m, in \u001b[0;36m_modified_open\u001b[1;34m(file, *args, **kwargs)\u001b[0m\n\u001b[0;32m    275\u001b[0m \u001b[39mif\u001b[39;00m file \u001b[39min\u001b[39;00m {\u001b[39m0\u001b[39m, \u001b[39m1\u001b[39m, \u001b[39m2\u001b[39m}:\n\u001b[0;32m    276\u001b[0m     \u001b[39mraise\u001b[39;00m \u001b[39mValueError\u001b[39;00m(\n\u001b[0;32m    277\u001b[0m         \u001b[39mf\u001b[39m\u001b[39m\"\u001b[39m\u001b[39mIPython won\u001b[39m\u001b[39m'\u001b[39m\u001b[39mt let you open fd=\u001b[39m\u001b[39m{\u001b[39;00mfile\u001b[39m}\u001b[39;00m\u001b[39m by default \u001b[39m\u001b[39m\"\u001b[39m\n\u001b[0;32m    278\u001b[0m         \u001b[39m\"\u001b[39m\u001b[39mas it is likely to crash IPython. If you know what you are doing, \u001b[39m\u001b[39m\"\u001b[39m\n\u001b[0;32m    279\u001b[0m         \u001b[39m\"\u001b[39m\u001b[39myou can use builtins\u001b[39m\u001b[39m'\u001b[39m\u001b[39m open.\u001b[39m\u001b[39m\"\u001b[39m\n\u001b[0;32m    280\u001b[0m     )\n\u001b[1;32m--> 282\u001b[0m \u001b[39mreturn\u001b[39;00m io_open(file, \u001b[39m*\u001b[39margs, \u001b[39m*\u001b[39m\u001b[39m*\u001b[39mkwargs)\n",
      "\u001b[1;31mFileNotFoundError\u001b[0m: [Errno 2] No such file or directory: 'NLP Chat Bot/src/data/chatbot_dataset/movie_conversations.txt'"
     ]
    }
   ],
   "source": [
    "open('NLP Chat Bot/src/data/chatbot_dataset/movie_conversations.txt')"
   ]
  },
  {
   "cell_type": "code",
   "execution_count": null,
   "metadata": {},
   "outputs": [],
   "source": []
  }
 ],
 "metadata": {
  "kernelspec": {
   "display_name": "chatbotenv",
   "language": "python",
   "name": "python3"
  },
  "language_info": {
   "codemirror_mode": {
    "name": "ipython",
    "version": 3
   },
   "file_extension": ".py",
   "mimetype": "text/x-python",
   "name": "python",
   "nbconvert_exporter": "python",
   "pygments_lexer": "ipython3",
   "version": "3.9.7"
  },
  "orig_nbformat": 4,
  "vscode": {
   "interpreter": {
    "hash": "796271692c6896c4aeab3a083784e91733d4beca913111dbaacf916c53f2737d"
   }
  }
 },
 "nbformat": 4,
 "nbformat_minor": 2
}
