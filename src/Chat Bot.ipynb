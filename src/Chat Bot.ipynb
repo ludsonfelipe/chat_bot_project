{
 "cells": [
  {
   "cell_type": "code",
   "execution_count": 206,
   "id": "49dfbd12",
   "metadata": {
    "ExecuteTime": {
     "end_time": "2022-09-26T18:14:24.406452Z",
     "start_time": "2022-09-26T18:14:18.156055Z"
    }
   },
   "outputs": [],
   "source": [
    "import pandas as pd\n",
    "import numpy as np\n",
    "import re\n",
    "import ast\n",
    "import tensorflow as tf\n",
    "from nltk import FreqDist\n",
    "from nltk import word_tokenize"
   ]
  },
  {
   "cell_type": "code",
   "execution_count": 207,
   "id": "c7b4a46f",
   "metadata": {
    "ExecuteTime": {
     "end_time": "2022-09-26T18:59:53.358378Z",
     "start_time": "2022-09-26T18:59:53.342373Z"
    }
   },
   "outputs": [],
   "source": [
    "movie_lines_url = 'data\\chatbot_dataset\\movie_lines.txt'\n",
    "movie_conversations_url = 'data\\chatbot_dataset\\movie_conversations.txt'"
   ]
  },
  {
   "cell_type": "code",
   "execution_count": 213,
   "id": "7b5ceca4",
   "metadata": {},
   "outputs": [],
   "source": [
    "class ImportData:\n",
    "    \"\"\"Import data from a file.\n",
    "\n",
    "    Attributes:\n",
    "        url (str): URL of the file to import.\n",
    "    \"\"\"\n",
    "\n",
    "    def __init__(self, url):\n",
    "        \"\"\"\n",
    "        Args:\n",
    "            url (str): URL of the file to import.\n",
    "        \"\"\"\n",
    "        try:\n",
    "            self.url = url\n",
    "            self.file = open(self.url)\n",
    "        except Exception as e:\n",
    "            print(f'An error occurred: {e}')\n",
    "            \n",
    "    def read_lines(self, sep = \" +++$+++ \"):\n",
    "        \"\"\"Read lines from the file.\n",
    "\n",
    "        Returns:\n",
    "            list: A list of lists, where each inner list contains the columns\n",
    "                of a line in the file.\n",
    "        \"\"\"\n",
    "        try:\n",
    "            splitted_file = self.file.read().split('\\n')\n",
    "            list_of_columns = [line.split(sep) for line in splitted_file]\n",
    "            list_of_columns = list_of_columns[:-1]\n",
    "            return pd.DataFrame(list_of_columns)\n",
    "        except Exception as e:\n",
    "            print(f'An error occurred: {e}')\n",
    "            return None\n",
    "            \n",
    "    def close(self):\n",
    "        \"\"\"Close the file.\"\"\"\n",
    "        file.close()\n",
    "\n",
    "\n"
   ]
  },
  {
   "cell_type": "code",
   "execution_count": 214,
   "id": "c5b901de",
   "metadata": {},
   "outputs": [],
   "source": [
    "conversations = ImportData(movie_conversations_url).read_lines(sep = ' +++$+++ ')\n",
    "lines = ImportData(movie_lines_url).read_lines(sep = ' +++$+++ ')"
   ]
  },
  {
   "cell_type": "code",
   "execution_count": 216,
   "id": "54c7bff0",
   "metadata": {},
   "outputs": [],
   "source": [
    "conversations.columns = ['x1','x2','x3','cod']\n",
    "lines.columns = ['cod','c1','c2','c3','sentence']"
   ]
  },
  {
   "cell_type": "code",
   "execution_count": null,
   "id": "f73563ce",
   "metadata": {},
   "outputs": [],
   "source": [
    "# Define a function to clean the sentences\n",
    "def clean_text(text):\n",
    "\n",
    "    text = text.lower()\n",
    "    text = re.sub(r\"[^a-zA-Z0-9]+\", \" \", text)\n",
    "    text = re.sub(r\"i'm\", \"i am\", text)\n",
    "    text = re.sub(r\"he's\", \"he is\", text)\n",
    "    text = re.sub(r\"she's\", \"she is\", text)\n",
    "    text = re.sub(r\"it's\", \"it is\", text)\n",
    "    text = re.sub(r\"that's\", \"that is\", text)\n",
    "    text = re.sub(r\"what's\", \"that is\", text)\n",
    "    text = re.sub(r\"where's\", \"where is\", text)\n",
    "    text = re.sub(r\"how's\", \"how is\", text)\n",
    "    text = re.sub(r\"\\'ll\", \" will\", text)\n",
    "    text = re.sub(r\"\\'ve\", \" have\", text)\n",
    "    text = re.sub(r\"\\'re\", \" are\", text)\n",
    "    text = re.sub(r\"\\'d\", \" would\", text)\n",
    "    text = re.sub(r\"\\'ve\", \" have\", text)\n",
    "    text = re.sub(r\"won't\", \"will not\", text)\n",
    "    text = re.sub(r\"can't\", \"cannot\", text)\n",
    "    text = re.sub(r\"n't\", \" not\", text)\n",
    "    text = re.sub(r\"[-()\\\"#/@;:<>{}+=~|.?,]\", \"\", text)\n",
    "\n",
    "    return text\n"
   ]
  },
  {
   "cell_type": "code",
   "execution_count": null,
   "id": "776660a3",
   "metadata": {},
   "outputs": [],
   "source": []
  },
  {
   "cell_type": "code",
   "execution_count": 185,
   "id": "6da55141",
   "metadata": {},
   "outputs": [],
   "source": [
    "\n",
    "\n",
    "array_with_question_and_answers_ids = UnionDataframes().organize_dialogues(conversations)\n",
    "\n",
    "df_with_question_and_answers_ids = pd.DataFrame(array_with_question_and_answers_ids, columns=['question','answer'])\n",
    "\n",
    "df_question = df_with_question_and_answers_ids.merge(lines, left_on='question', right_on=0, how='left')\n",
    "df_sentences = df_question.merge(lines, left_on='answer', right_on=0, how='left', suffixes=('_question','_answer'))\n",
    "df = df_sentences[['4_question','4_answer']]\n",
    "df.columns = ['question','answer']"
   ]
  },
  {
   "cell_type": "code",
   "execution_count": null,
   "id": "f88649be",
   "metadata": {},
   "outputs": [],
   "source": [
    "class UnionDataframes:\n",
    "    def organize_dialogues(self, dataframe):\n",
    "        question = []\n",
    "        answer = []\n",
    "        for scene in dataframe[3].values:\n",
    "            sentences = ast.literal_eval(scene)\n",
    "            for i in range(len(sentences)-1):\n",
    "                question.append(sentences[i])\n",
    "                answer.append(sentences[i+1])\n",
    "        \n",
    "        return zip(question,answer)"
   ]
  },
  {
   "cell_type": "code",
   "execution_count": 186,
   "id": "dbe46580",
   "metadata": {},
   "outputs": [
    {
     "name": "stderr",
     "output_type": "stream",
     "text": [
      "C:\\Users\\felip\\AppData\\Local\\Temp/ipykernel_17156/1671258430.py:27: SettingWithCopyWarning: \n",
      "A value is trying to be set on a copy of a slice from a DataFrame.\n",
      "Try using .loc[row_indexer,col_indexer] = value instead\n",
      "\n",
      "See the caveats in the documentation: https://pandas.pydata.org/pandas-docs/stable/user_guide/indexing.html#returning-a-view-versus-a-copy\n",
      "  df['question'] = df['question'].apply(clean_text)\n",
      "C:\\Users\\felip\\AppData\\Local\\Temp/ipykernel_17156/1671258430.py:28: SettingWithCopyWarning: \n",
      "A value is trying to be set on a copy of a slice from a DataFrame.\n",
      "Try using .loc[row_indexer,col_indexer] = value instead\n",
      "\n",
      "See the caveats in the documentation: https://pandas.pydata.org/pandas-docs/stable/user_guide/indexing.html#returning-a-view-versus-a-copy\n",
      "  df['answer'] = df['answer'].apply(clean_text)\n"
     ]
    }
   ],
   "source": [
    "\n",
    "# Define a function to clean the sentences\n",
    "def clean_text(text):\n",
    "\n",
    "    text = text.lower()\n",
    "    text = re.sub(r\"[^a-zA-Z0-9]+\", \" \", text)\n",
    "    text = re.sub(r\"i'm\", \"i am\", text)\n",
    "    text = re.sub(r\"he's\", \"he is\", text)\n",
    "    text = re.sub(r\"she's\", \"she is\", text)\n",
    "    text = re.sub(r\"it's\", \"it is\", text)\n",
    "    text = re.sub(r\"that's\", \"that is\", text)\n",
    "    text = re.sub(r\"what's\", \"that is\", text)\n",
    "    text = re.sub(r\"where's\", \"where is\", text)\n",
    "    text = re.sub(r\"how's\", \"how is\", text)\n",
    "    text = re.sub(r\"\\'ll\", \" will\", text)\n",
    "    text = re.sub(r\"\\'ve\", \" have\", text)\n",
    "    text = re.sub(r\"\\'re\", \" are\", text)\n",
    "    text = re.sub(r\"\\'d\", \" would\", text)\n",
    "    text = re.sub(r\"\\'ve\", \" have\", text)\n",
    "    text = re.sub(r\"won't\", \"will not\", text)\n",
    "    text = re.sub(r\"can't\", \"cannot\", text)\n",
    "    text = re.sub(r\"n't\", \" not\", text)\n",
    "    text = re.sub(r\"[-()\\\"#/@;:<>{}+=~|.?,]\", \"\", text)\n",
    "\n",
    "    return text\n",
    "\n",
    "\n",
    "def calculate_freq_list():\n",
    "    \n",
    "\n",
    "\n",
    "# Apply the function to the dataframe\n",
    "df['question'] = df['question'].apply(clean_text)\n",
    "df['answer'] = df['answer'].apply(clean_text)\n"
   ]
  },
  {
   "cell_type": "code",
   "execution_count": 187,
   "id": "f5af57ae",
   "metadata": {},
   "outputs": [
    {
     "name": "stderr",
     "output_type": "stream",
     "text": [
      "C:\\Users\\felip\\AppData\\Local\\Temp/ipykernel_17156/3725888794.py:1: SettingWithCopyWarning: \n",
      "A value is trying to be set on a copy of a slice from a DataFrame.\n",
      "Try using .loc[row_indexer,col_indexer] = value instead\n",
      "\n",
      "See the caveats in the documentation: https://pandas.pydata.org/pandas-docs/stable/user_guide/indexing.html#returning-a-view-versus-a-copy\n",
      "  df['question'] = df['question'].apply(word_tokenize).values\n"
     ]
    }
   ],
   "source": [
    "df['question'] = df['question'].apply(word_tokenize).values\n",
    "union_all_words = np.concatenate(df['question'].values)"
   ]
  },
  {
   "cell_type": "code",
   "execution_count": 188,
   "id": "03cda334",
   "metadata": {},
   "outputs": [],
   "source": [
    "frequency_of_word = FreqDist(union_all_words)"
   ]
  },
  {
   "cell_type": "code",
   "execution_count": 189,
   "id": "717716cf",
   "metadata": {},
   "outputs": [],
   "source": [
    "min_occurrences = 20\n",
    "filtered_tokens = [token for token, freq in frequency_of_word.items() if freq >= min_occurrences]"
   ]
  },
  {
   "cell_type": "code",
   "execution_count": 190,
   "id": "ae2c28ae",
   "metadata": {},
   "outputs": [
    {
     "name": "stderr",
     "output_type": "stream",
     "text": [
      "C:\\Users\\felip\\AppData\\Local\\Temp/ipykernel_17156/3262487318.py:1: SettingWithCopyWarning: \n",
      "A value is trying to be set on a copy of a slice from a DataFrame.\n",
      "Try using .loc[row_indexer,col_indexer] = value instead\n",
      "\n",
      "See the caveats in the documentation: https://pandas.pydata.org/pandas-docs/stable/user_guide/indexing.html#returning-a-view-versus-a-copy\n",
      "  df['question'] = df['question'].apply(lambda x: ' '.join([word if word in filtered_tokens else '<OUT>' for word in x]))\n"
     ]
    }
   ],
   "source": [
    "df['question'] = df['question'].apply(lambda x: ' '.join([word if word in filtered_tokens else '<OUT>' for word in x]))"
   ]
  },
  {
   "cell_type": "code",
   "execution_count": 191,
   "id": "5f04d8b1",
   "metadata": {},
   "outputs": [
    {
     "data": {
      "text/html": [
       "<div>\n",
       "<style scoped>\n",
       "    .dataframe tbody tr th:only-of-type {\n",
       "        vertical-align: middle;\n",
       "    }\n",
       "\n",
       "    .dataframe tbody tr th {\n",
       "        vertical-align: top;\n",
       "    }\n",
       "\n",
       "    .dataframe thead th {\n",
       "        text-align: right;\n",
       "    }\n",
       "</style>\n",
       "<table border=\"1\" class=\"dataframe\">\n",
       "  <thead>\n",
       "    <tr style=\"text-align: right;\">\n",
       "      <th></th>\n",
       "      <th>question</th>\n",
       "      <th>answer</th>\n",
       "    </tr>\n",
       "  </thead>\n",
       "  <tbody>\n",
       "    <tr>\n",
       "      <th>0</th>\n",
       "      <td>can we make this quick &lt;OUT&gt; &lt;OUT&gt; and andrew ...</td>\n",
       "      <td>well i thought we d start with pronunciation i...</td>\n",
       "    </tr>\n",
       "    <tr>\n",
       "      <th>1</th>\n",
       "      <td>well i thought we d start with &lt;OUT&gt; if that s...</td>\n",
       "      <td>not the hacking and gagging and spitting part ...</td>\n",
       "    </tr>\n",
       "    <tr>\n",
       "      <th>2</th>\n",
       "      <td>not the &lt;OUT&gt; and &lt;OUT&gt; and &lt;OUT&gt; part please</td>\n",
       "      <td>okay then how bout we try out some french cuis...</td>\n",
       "    </tr>\n",
       "    <tr>\n",
       "      <th>3</th>\n",
       "      <td>you re asking me out that s so cute what s you...</td>\n",
       "      <td>forget it</td>\n",
       "    </tr>\n",
       "    <tr>\n",
       "      <th>4</th>\n",
       "      <td>no no it s my fault we didn t have a proper &lt;OUT&gt;</td>\n",
       "      <td>cameron</td>\n",
       "    </tr>\n",
       "    <tr>\n",
       "      <th>...</th>\n",
       "      <td>...</td>\n",
       "      <td>...</td>\n",
       "    </tr>\n",
       "    <tr>\n",
       "      <th>221611</th>\n",
       "      <td>your orders mr &lt;OUT&gt;</td>\n",
       "      <td>i m to take the sikali with the main column to...</td>\n",
       "    </tr>\n",
       "    <tr>\n",
       "      <th>221612</th>\n",
       "      <td>i m to take the &lt;OUT&gt; with the main column to ...</td>\n",
       "      <td>lord chelmsford seems to want me to stay back ...</td>\n",
       "    </tr>\n",
       "    <tr>\n",
       "      <th>221613</th>\n",
       "      <td>lord &lt;OUT&gt; seems to want me to stay back with ...</td>\n",
       "      <td>i think chelmsford wants a good man on the bor...</td>\n",
       "    </tr>\n",
       "    <tr>\n",
       "      <th>221614</th>\n",
       "      <td>well i assure you sir i have no desire to crea...</td>\n",
       "      <td>and i assure you you do not in fact i d be obl...</td>\n",
       "    </tr>\n",
       "    <tr>\n",
       "      <th>221615</th>\n",
       "      <td>and i assure you you do not in fact i d be &lt;OU...</td>\n",
       "      <td>so far only their scouts but we have had repor...</td>\n",
       "    </tr>\n",
       "  </tbody>\n",
       "</table>\n",
       "<p>221616 rows × 2 columns</p>\n",
       "</div>"
      ],
      "text/plain": [
       "                                                 question  \\\n",
       "0       can we make this quick <OUT> <OUT> and andrew ...   \n",
       "1       well i thought we d start with <OUT> if that s...   \n",
       "2           not the <OUT> and <OUT> and <OUT> part please   \n",
       "3       you re asking me out that s so cute what s you...   \n",
       "4       no no it s my fault we didn t have a proper <OUT>   \n",
       "...                                                   ...   \n",
       "221611                               your orders mr <OUT>   \n",
       "221612  i m to take the <OUT> with the main column to ...   \n",
       "221613  lord <OUT> seems to want me to stay back with ...   \n",
       "221614  well i assure you sir i have no desire to crea...   \n",
       "221615  and i assure you you do not in fact i d be <OU...   \n",
       "\n",
       "                                                   answer  \n",
       "0       well i thought we d start with pronunciation i...  \n",
       "1       not the hacking and gagging and spitting part ...  \n",
       "2       okay then how bout we try out some french cuis...  \n",
       "3                                              forget it   \n",
       "4                                                cameron   \n",
       "...                                                   ...  \n",
       "221611  i m to take the sikali with the main column to...  \n",
       "221612  lord chelmsford seems to want me to stay back ...  \n",
       "221613  i think chelmsford wants a good man on the bor...  \n",
       "221614  and i assure you you do not in fact i d be obl...  \n",
       "221615  so far only their scouts but we have had repor...  \n",
       "\n",
       "[221616 rows x 2 columns]"
      ]
     },
     "execution_count": 191,
     "metadata": {},
     "output_type": "execute_result"
    }
   ],
   "source": [
    "df"
   ]
  },
  {
   "cell_type": "code",
   "execution_count": null,
   "id": "8c06cd78",
   "metadata": {},
   "outputs": [],
   "source": []
  }
 ],
 "metadata": {
  "kernelspec": {
   "display_name": "base",
   "language": "python",
   "name": "python3"
  },
  "language_info": {
   "codemirror_mode": {
    "name": "ipython",
    "version": 3
   },
   "file_extension": ".py",
   "mimetype": "text/x-python",
   "name": "python",
   "nbconvert_exporter": "python",
   "pygments_lexer": "ipython3",
   "version": "3.9.7"
  },
  "toc": {
   "base_numbering": 1,
   "nav_menu": {},
   "number_sections": true,
   "sideBar": true,
   "skip_h1_title": false,
   "title_cell": "Table of Contents",
   "title_sidebar": "Contents",
   "toc_cell": false,
   "toc_position": {},
   "toc_section_display": true,
   "toc_window_display": false
  },
  "vscode": {
   "interpreter": {
    "hash": "ce8b5e658b2eede209b31591b9f0d4f1ed334d79e0c4190ad78d2af0dd810241"
   }
  }
 },
 "nbformat": 4,
 "nbformat_minor": 5
}
